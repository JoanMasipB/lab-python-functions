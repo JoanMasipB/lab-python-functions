{
 "cells": [
  {
   "cell_type": "markdown",
   "id": "25d7736c-ba17-4aff-b6bb-66eba20fbf4e",
   "metadata": {},
   "source": [
    "# Lab | Functions"
   ]
  },
  {
   "cell_type": "markdown",
   "id": "0c581062-8967-4d93-b06e-62833222f930",
   "metadata": {
    "tags": []
   },
   "source": [
    "## Exercise: Managing Customer Orders with Functions\n",
    "\n",
    "In the previous exercise, you improved the code for managing customer orders by using loops and flow control. Now, let's take it a step further and refactor the code by introducing functions.\n",
    "\n",
    "Follow the steps below to complete the exercise:\n",
    "\n",
    "1. Define a function named `initialize_inventory` that takes `products` as a parameter. Inside the function, implement the code for initializing the inventory dictionary using a loop and user input.\n",
    "\n",
    "2. Define a function named `get_customer_orders` that takes no parameters. Inside the function, implement the code for prompting the user to enter the product names using a loop. The function should return the `customer_orders` set.\n",
    "\n",
    "3. Define a function named `update_inventory` that takes `customer_orders` and `inventory` as parameters. Inside the function, implement the code for updating the inventory dictionary based on the customer orders.\n",
    "\n",
    "4. Define a function named `calculate_order_statistics` that takes `customer_orders` and `products` as parameters. Inside the function, implement the code for calculating the order statistics (total products ordered, and percentage of unique products ordered). The function should return these values.\n",
    "\n",
    "5. Define a function named `print_order_statistics` that takes `order_statistics` as a parameter. Inside the function, implement the code for printing the order statistics.\n",
    "\n",
    "6. Define a function named `print_updated_inventory` that takes `inventory` as a parameter. Inside the function, implement the code for printing the updated inventory.\n",
    "\n",
    "7. Call the functions in the appropriate sequence to execute the program and manage customer orders.\n",
    "\n",
    "Hints for functions:\n",
    "\n",
    "- Consider the input parameters required for each function and their return values.\n",
    "- Utilize function parameters and return values to transfer data between functions.\n",
    "- Test your functions individually to ensure they work correctly.\n",
    "\n",
    "\n"
   ]
  },
  {
   "cell_type": "code",
   "execution_count": 3,
   "id": "5d1a1248-ae0c-4d3a-a519-108d8f0de6b3",
   "metadata": {},
   "outputs": [
    {
     "name": "stdin",
     "output_type": "stream",
     "text": [
      "Enter the quantity of t-shirts:  2\n",
      "Enter the quantity of mugs:  2\n",
      "Enter the quantity of hats:  2\n",
      "Enter the quantity of books:  2\n",
      "Enter the quantity of keychains:  2\n",
      "Do you want to add something to your cart? (yes/no):  hs\n"
     ]
    },
    {
     "name": "stdout",
     "output_type": "stream",
     "text": [
      "Please answer yes or no.\n"
     ]
    },
    {
     "name": "stdin",
     "output_type": "stream",
     "text": [
      "Do you want to add something to your cart? (yes/no):  yes\n",
      "Product 2:  hata\n"
     ]
    },
    {
     "name": "stdout",
     "output_type": "stream",
     "text": [
      "Your product is either out of stock or unavailable. Choose from ['t-shirt', 'mug', 'hat', 'book', 'keychain'].\n"
     ]
    },
    {
     "name": "stdin",
     "output_type": "stream",
     "text": [
      "Do you want to add something to your cart? (yes/no):  yes\n",
      "Product 3:  hat\n"
     ]
    },
    {
     "name": "stdout",
     "output_type": "stream",
     "text": [
      "hat has been added to your cart.\n"
     ]
    },
    {
     "name": "stdin",
     "output_type": "stream",
     "text": [
      "Do you want to add something to your cart? (yes/no):  yes\n",
      "Product 4:  hat\n"
     ]
    },
    {
     "name": "stdout",
     "output_type": "stream",
     "text": [
      "hat has been added to your cart.\n"
     ]
    },
    {
     "name": "stdin",
     "output_type": "stream",
     "text": [
      "Do you want to add something to your cart? (yes/no):  yes\n",
      "Product 5:  hat\n"
     ]
    },
    {
     "name": "stdout",
     "output_type": "stream",
     "text": [
      "Your product is either out of stock or unavailable. Choose from ['t-shirt', 'mug', 'hat', 'book', 'keychain'].\n"
     ]
    },
    {
     "name": "stdin",
     "output_type": "stream",
     "text": [
      "Do you want to add something to your cart? (yes/no):  no\n"
     ]
    },
    {
     "name": "stdout",
     "output_type": "stream",
     "text": [
      "\n",
      "Total products ordered: 1\n",
      "Percentage of unique products ordered: 20.00%\n",
      "\n",
      "Updated Inventory:\n",
      "t-shirt: 2 left\n",
      "mug: 2 left\n",
      "hat: 0 left\n",
      "book: 2 left\n",
      "keychain: 2 left\n"
     ]
    }
   ],
   "source": [
    "## products = [\"t-shirt\", \"mug\", \"hat\", \"book\", \"keychain\"]\n",
    "inventory = {}\n",
    "customer_orders = set()\n",
    "order_statistics = {}\n",
    "\n",
    "# Step 1: Define initialize_inventory function\n",
    "def initialize_inventory(products):\n",
    "    global inventory\n",
    "    for product in products:\n",
    "        quantity = int(input(f\"Enter the quantity of {product}s: \"))\n",
    "        inventory[product] = quantity\n",
    "\n",
    "# Step 2: Define get_customer_orders function\n",
    "def get_customer_orders():\n",
    "    global products, inventory, customer_orders\n",
    "    i = 0\n",
    "    while True:\n",
    "        answer = input(\"Do you want to add something to your cart? (yes/no): \").lower().strip()\n",
    "        if answer == \"yes\":\n",
    "            order = input(f\"Product {i+1}: \").lower().strip()\n",
    "            if order in products and inventory[order] > 0:\n",
    "                customer_orders.add(order)\n",
    "                update_inventory(order, inventory)\n",
    "                print(f\"{order} has been added to your cart.\")\n",
    "            else:\n",
    "                print(f\"Your product is either out of stock or unavailable. Choose from {products}.\")\n",
    "        elif answer == \"no\":\n",
    "            break\n",
    "        else:\n",
    "            print(\"Please answer yes or no.\")\n",
    "        i += 1\n",
    "    return customer_orders\n",
    "\n",
    "# Step 3: Define update_inventory function\n",
    "def update_inventory(product, inventory):\n",
    "    if product in inventory:\n",
    "        inventory[product] -= 1\n",
    "\n",
    "# Step 4: Define calculate_order_statistics function\n",
    "def calculate_order_statistics(customer_orders, products):\n",
    "    total_products_ordered = len(customer_orders)\n",
    "    unique_products_ordered = len(set(customer_orders))\n",
    "    percent_unique = (unique_products_ordered / len(products)) * 100\n",
    "    return total_products_ordered, percent_unique\n",
    "\n",
    "# Step 5: Define print_order_statistics function\n",
    "def print_order_statistics(order_statistics):\n",
    "    total_products_ordered, percent_unique = order_statistics\n",
    "    print(f\"\\nTotal products ordered: {total_products_ordered}\")\n",
    "    print(f\"Percentage of unique products ordered: {percent_unique:.2f}%\")\n",
    "\n",
    "# Step 6: Define print_updated_inventory function\n",
    "def print_updated_inventory(inventory):\n",
    "    print(\"\\nUpdated Inventory:\")\n",
    "    for product, quantity in inventory.items():\n",
    "        print(f\"{product}: {quantity} left\")\n",
    "\n",
    "# Execute the program\n",
    "initialize_inventory(products)\n",
    "customer_orders = get_customer_orders()\n",
    "order_statistics = calculate_order_statistics(customer_orders, products)\n",
    "print_order_statistics(order_statistics)\n",
    "print_updated_inventory(inventory)\n"
   ]
  },
  {
   "cell_type": "code",
   "execution_count": 109,
   "id": "6b4009e7-50cd-4f3c-84d1-c1cffb2b5746",
   "metadata": {},
   "outputs": [
    {
     "data": {
      "text/plain": [
       "{'t-shirt': 1, 'mug': 1, 'hat': 1, 'book': 1, 'keychain': 1}"
      ]
     },
     "execution_count": 109,
     "metadata": {},
     "output_type": "execute_result"
    }
   ],
   "source": [
    "inventory"
   ]
  }
 ],
 "metadata": {
  "kernelspec": {
   "display_name": "Python 3 (ipykernel)",
   "language": "python",
   "name": "python3"
  },
  "language_info": {
   "codemirror_mode": {
    "name": "ipython",
    "version": 3
   },
   "file_extension": ".py",
   "mimetype": "text/x-python",
   "name": "python",
   "nbconvert_exporter": "python",
   "pygments_lexer": "ipython3",
   "version": "3.12.4"
  }
 },
 "nbformat": 4,
 "nbformat_minor": 5
}
