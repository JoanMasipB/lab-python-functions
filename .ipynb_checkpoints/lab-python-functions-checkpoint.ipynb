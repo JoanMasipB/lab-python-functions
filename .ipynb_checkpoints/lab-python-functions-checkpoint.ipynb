{
 "cells": [
  {
   "cell_type": "markdown",
   "id": "25d7736c-ba17-4aff-b6bb-66eba20fbf4e",
   "metadata": {},
   "source": [
    "# Lab | Functions"
   ]
  },
  {
   "cell_type": "markdown",
   "id": "0c581062-8967-4d93-b06e-62833222f930",
   "metadata": {
    "tags": []
   },
   "source": [
    "## Exercise: Managing Customer Orders with Functions\n",
    "\n",
    "In the previous exercise, you improved the code for managing customer orders by using loops and flow control. Now, let's take it a step further and refactor the code by introducing functions.\n",
    "\n",
    "Follow the steps below to complete the exercise:\n",
    "\n",
    "1. Define a function named `initialize_inventory` that takes `products` as a parameter. Inside the function, implement the code for initializing the inventory dictionary using a loop and user input.\n",
    "\n",
    "2. Define a function named `get_customer_orders` that takes no parameters. Inside the function, implement the code for prompting the user to enter the product names using a loop. The function should return the `customer_orders` set.\n",
    "\n",
    "3. Define a function named `update_inventory` that takes `customer_orders` and `inventory` as parameters. Inside the function, implement the code for updating the inventory dictionary based on the customer orders.\n",
    "\n",
    "4. Define a function named `calculate_order_statistics` that takes `customer_orders` and `products` as parameters. Inside the function, implement the code for calculating the order statistics (total products ordered, and percentage of unique products ordered). The function should return these values.\n",
    "\n",
    "5. Define a function named `print_order_statistics` that takes `order_statistics` as a parameter. Inside the function, implement the code for printing the order statistics.\n",
    "\n",
    "6. Define a function named `print_updated_inventory` that takes `inventory` as a parameter. Inside the function, implement the code for printing the updated inventory.\n",
    "\n",
    "7. Call the functions in the appropriate sequence to execute the program and manage customer orders.\n",
    "\n",
    "Hints for functions:\n",
    "\n",
    "- Consider the input parameters required for each function and their return values.\n",
    "- Utilize function parameters and return values to transfer data between functions.\n",
    "- Test your functions individually to ensure they work correctly.\n",
    "\n",
    "\n"
   ]
  },
  {
   "cell_type": "code",
   "execution_count": 141,
   "id": "5d6e3ee9-1dc1-422f-a8c8-45dc7f06cdb2",
   "metadata": {},
   "outputs": [
    {
     "name": "stdin",
     "output_type": "stream",
     "text": [
      "Enter the quantity of t-shirts:  1\n",
      "Enter the quantity of mugs:  1\n",
      "Enter the quantity of hats:  1\n",
      "Enter the quantity of books:  1\n",
      "Enter the quantity of keychains:  1\n",
      "Do you want to add something to your cart? (yes/no):  yes\n",
      "Product 1:  hat\n",
      "Do you want to add something to your cart? (yes/no):  no\n"
     ]
    },
    {
     "name": "stdout",
     "output_type": "stream",
     "text": [
      "Updated Inventory:\n",
      "t-shirt: 1\n",
      "mug: 1\n",
      "hat: 0\n",
      "book: 1\n",
      "keychain: 1\n"
     ]
    }
   ],
   "source": [
    "products = [\"t-shirt\", \"mug\", \"hat\", \"book\", \"keychain\"]\n",
    "inventory = {}\n",
    "customer_orders = set()\n",
    "i = 0\n",
    "order_statistics = {}\n",
    "\n",
    "def initialize_inventory(products):\n",
    "    global inventory\n",
    "    for product in products:\n",
    "        quantity = int(input(f\"Enter the quantity of {product}s: \"))\n",
    "        inventory[product] = quantity\n",
    "    get_customer_orders()\n",
    "    \n",
    "def get_customer_orders():\n",
    "    global products\n",
    "    global inventory\n",
    "    global customer_orders\n",
    "    global i\n",
    "    answer = input(\"Do you want to add something to your cart? (yes/no): \")\n",
    "    if answer == \"yes\":\n",
    "        order = input(f\"Product {i+1}: \")\n",
    "        if order in products and inventory[order] > 0:\n",
    "            i += 1\n",
    "            customer_orders.add(order)\n",
    "            update_inventory(customer_orders, inventory)\n",
    "            get_customer_orders()\n",
    "        else:\n",
    "            order = input(f\"Your product is either out of stock or unavailable. Chose from {products} {i+1}: \")\n",
    "            get_customer_orders()\n",
    "    elif answer == \"no\":        \n",
    "        calculate_order_statistics(customer_orders, products)\n",
    "        # print_order_statistics(order_statistics)\n",
    "        print_updated_inventory(inventory)\n",
    "    else:\n",
    "        answer = input(\"Please answer yes or no: \")\n",
    "        get_customer_orders()\n",
    "        \n",
    "def update_inventory(customer_orders, inventory):\n",
    "    for product in customer_orders:\n",
    "        plural_product = product\n",
    "        if plural_product in inventory:\n",
    "            inventory[plural_product] -= 1 \n",
    "\n",
    "def calculate_order_statistics(customer_orders, products):\n",
    "    global order_statistics\n",
    "    for product, quantity in inventory.items():\n",
    "        if \n",
    "    total_products_ordered = {len(customer_orders)}\n",
    "    percentage_unique_product = ({len(products)/len(customer_orders)})   \n",
    "    order_stats = (total_products_ordered, percentage_unique_product)\n",
    "    order_statistics = order_stats\n",
    "    \n",
    "# def print_order_statistics(order_statistics):\n",
    "#     print(f\"The total ammount of items ordered is: {order_statistics(total_products_ordered)}\")\n",
    "#     print(f\"The costumer ordered {order_statistics(percentage_unique_product)}% of the total ammount of different items\")\n",
    "    \n",
    "def print_updated_inventory(inventory):\n",
    "    print(\"Updated Inventory:\")\n",
    "    for product, quantity in inventory.items():\n",
    "        print(f\"{product}: {quantity}\")\n",
    "\n",
    "\n",
    "initialize_inventory(products)\n"
   ]
  },
  {
   "cell_type": "code",
   "execution_count": 109,
   "id": "6b4009e7-50cd-4f3c-84d1-c1cffb2b5746",
   "metadata": {},
   "outputs": [
    {
     "data": {
      "text/plain": [
       "{'t-shirt': 1, 'mug': 1, 'hat': 1, 'book': 1, 'keychain': 1}"
      ]
     },
     "execution_count": 109,
     "metadata": {},
     "output_type": "execute_result"
    }
   ],
   "source": [
    "inventory"
   ]
  }
 ],
 "metadata": {
  "kernelspec": {
   "display_name": "Python 3 (ipykernel)",
   "language": "python",
   "name": "python3"
  },
  "language_info": {
   "codemirror_mode": {
    "name": "ipython",
    "version": 3
   },
   "file_extension": ".py",
   "mimetype": "text/x-python",
   "name": "python",
   "nbconvert_exporter": "python",
   "pygments_lexer": "ipython3",
   "version": "3.12.4"
  }
 },
 "nbformat": 4,
 "nbformat_minor": 5
}
